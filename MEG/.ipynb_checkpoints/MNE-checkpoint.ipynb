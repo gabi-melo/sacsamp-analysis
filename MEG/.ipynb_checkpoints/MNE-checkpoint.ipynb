{
 "cells": [
  {
   "cell_type": "markdown",
   "metadata": {
    "id": "hYO9j_lOrHwm"
   },
   "source": [
    "### Load libraries"
   ]
  },
  {
   "cell_type": "code",
   "execution_count": 1,
   "metadata": {
    "colab": {
     "base_uri": "https://localhost:8080/"
    },
    "id": "hIrgxRQMeVlI",
    "outputId": "bc05b807-7d8c-498f-b827-5c09be9645eb",
    "scrolled": true
   },
   "outputs": [
    {
     "name": "stdout",
     "output_type": "stream",
     "text": [
      "Requirement already satisfied: mne in /opt/anaconda3/lib/python3.12/site-packages (1.9.0)\n",
      "Requirement already satisfied: decorator in /opt/anaconda3/lib/python3.12/site-packages (from mne) (5.1.1)\n",
      "Requirement already satisfied: jinja2 in /opt/anaconda3/lib/python3.12/site-packages (from mne) (3.1.4)\n",
      "Requirement already satisfied: lazy-loader>=0.3 in /opt/anaconda3/lib/python3.12/site-packages (from mne) (0.4)\n",
      "Requirement already satisfied: matplotlib>=3.6 in /opt/anaconda3/lib/python3.12/site-packages (from mne) (3.9.2)\n",
      "Requirement already satisfied: numpy<3,>=1.23 in /opt/anaconda3/lib/python3.12/site-packages (from mne) (1.26.4)\n",
      "Requirement already satisfied: packaging in /opt/anaconda3/lib/python3.12/site-packages (from mne) (24.1)\n",
      "Requirement already satisfied: pooch>=1.5 in /opt/anaconda3/lib/python3.12/site-packages (from mne) (1.8.2)\n",
      "Requirement already satisfied: scipy>=1.9 in /opt/anaconda3/lib/python3.12/site-packages (from mne) (1.13.1)\n",
      "Requirement already satisfied: tqdm in /opt/anaconda3/lib/python3.12/site-packages (from mne) (4.66.5)\n",
      "Requirement already satisfied: contourpy>=1.0.1 in /opt/anaconda3/lib/python3.12/site-packages (from matplotlib>=3.6->mne) (1.2.0)\n",
      "Requirement already satisfied: cycler>=0.10 in /opt/anaconda3/lib/python3.12/site-packages (from matplotlib>=3.6->mne) (0.11.0)\n",
      "Requirement already satisfied: fonttools>=4.22.0 in /opt/anaconda3/lib/python3.12/site-packages (from matplotlib>=3.6->mne) (4.51.0)\n",
      "Requirement already satisfied: kiwisolver>=1.3.1 in /opt/anaconda3/lib/python3.12/site-packages (from matplotlib>=3.6->mne) (1.4.4)\n",
      "Requirement already satisfied: pillow>=8 in /opt/anaconda3/lib/python3.12/site-packages (from matplotlib>=3.6->mne) (10.4.0)\n",
      "Requirement already satisfied: pyparsing>=2.3.1 in /opt/anaconda3/lib/python3.12/site-packages (from matplotlib>=3.6->mne) (3.1.2)\n",
      "Requirement already satisfied: python-dateutil>=2.7 in /opt/anaconda3/lib/python3.12/site-packages (from matplotlib>=3.6->mne) (2.9.0.post0)\n",
      "Requirement already satisfied: platformdirs>=2.5.0 in /opt/anaconda3/lib/python3.12/site-packages (from pooch>=1.5->mne) (3.10.0)\n",
      "Requirement already satisfied: requests>=2.19.0 in /opt/anaconda3/lib/python3.12/site-packages (from pooch>=1.5->mne) (2.32.3)\n",
      "Requirement already satisfied: MarkupSafe>=2.0 in /opt/anaconda3/lib/python3.12/site-packages (from jinja2->mne) (2.1.3)\n",
      "Requirement already satisfied: six>=1.5 in /opt/anaconda3/lib/python3.12/site-packages (from python-dateutil>=2.7->matplotlib>=3.6->mne) (1.16.0)\n",
      "Requirement already satisfied: charset-normalizer<4,>=2 in /opt/anaconda3/lib/python3.12/site-packages (from requests>=2.19.0->pooch>=1.5->mne) (3.3.2)\n",
      "Requirement already satisfied: idna<4,>=2.5 in /opt/anaconda3/lib/python3.12/site-packages (from requests>=2.19.0->pooch>=1.5->mne) (3.7)\n",
      "Requirement already satisfied: urllib3<3,>=1.21.1 in /opt/anaconda3/lib/python3.12/site-packages (from requests>=2.19.0->pooch>=1.5->mne) (2.2.3)\n",
      "Requirement already satisfied: certifi>=2017.4.17 in /opt/anaconda3/lib/python3.12/site-packages (from requests>=2.19.0->pooch>=1.5->mne) (2024.12.14)\n",
      "Requirement already satisfied: pyvistaqt in /opt/anaconda3/lib/python3.12/site-packages (0.11.1)\n",
      "Requirement already satisfied: pyvista>=0.32.0 in /opt/anaconda3/lib/python3.12/site-packages (from pyvistaqt) (0.44.2)\n",
      "Requirement already satisfied: QtPy>=1.9.0 in /opt/anaconda3/lib/python3.12/site-packages (from pyvistaqt) (2.4.1)\n",
      "Requirement already satisfied: matplotlib>=3.0.1 in /opt/anaconda3/lib/python3.12/site-packages (from pyvista>=0.32.0->pyvistaqt) (3.9.2)\n",
      "Requirement already satisfied: numpy>=1.21.0 in /opt/anaconda3/lib/python3.12/site-packages (from pyvista>=0.32.0->pyvistaqt) (1.26.4)\n",
      "Requirement already satisfied: pillow in /opt/anaconda3/lib/python3.12/site-packages (from pyvista>=0.32.0->pyvistaqt) (10.4.0)\n",
      "Requirement already satisfied: pooch in /opt/anaconda3/lib/python3.12/site-packages (from pyvista>=0.32.0->pyvistaqt) (1.8.2)\n",
      "Requirement already satisfied: scooby>=0.5.1 in /opt/anaconda3/lib/python3.12/site-packages (from pyvista>=0.32.0->pyvistaqt) (0.10.0)\n",
      "Requirement already satisfied: vtk<9.4.0 in /opt/anaconda3/lib/python3.12/site-packages (from pyvista>=0.32.0->pyvistaqt) (9.3.1)\n",
      "Requirement already satisfied: typing-extensions in /opt/anaconda3/lib/python3.12/site-packages (from pyvista>=0.32.0->pyvistaqt) (4.11.0)\n",
      "Requirement already satisfied: packaging in /opt/anaconda3/lib/python3.12/site-packages (from QtPy>=1.9.0->pyvistaqt) (24.1)\n",
      "Requirement already satisfied: contourpy>=1.0.1 in /opt/anaconda3/lib/python3.12/site-packages (from matplotlib>=3.0.1->pyvista>=0.32.0->pyvistaqt) (1.2.0)\n",
      "Requirement already satisfied: cycler>=0.10 in /opt/anaconda3/lib/python3.12/site-packages (from matplotlib>=3.0.1->pyvista>=0.32.0->pyvistaqt) (0.11.0)\n",
      "Requirement already satisfied: fonttools>=4.22.0 in /opt/anaconda3/lib/python3.12/site-packages (from matplotlib>=3.0.1->pyvista>=0.32.0->pyvistaqt) (4.51.0)\n",
      "Requirement already satisfied: kiwisolver>=1.3.1 in /opt/anaconda3/lib/python3.12/site-packages (from matplotlib>=3.0.1->pyvista>=0.32.0->pyvistaqt) (1.4.4)\n",
      "Requirement already satisfied: pyparsing>=2.3.1 in /opt/anaconda3/lib/python3.12/site-packages (from matplotlib>=3.0.1->pyvista>=0.32.0->pyvistaqt) (3.1.2)\n",
      "Requirement already satisfied: python-dateutil>=2.7 in /opt/anaconda3/lib/python3.12/site-packages (from matplotlib>=3.0.1->pyvista>=0.32.0->pyvistaqt) (2.9.0.post0)\n",
      "Requirement already satisfied: platformdirs>=2.5.0 in /opt/anaconda3/lib/python3.12/site-packages (from pooch->pyvista>=0.32.0->pyvistaqt) (3.10.0)\n",
      "Requirement already satisfied: requests>=2.19.0 in /opt/anaconda3/lib/python3.12/site-packages (from pooch->pyvista>=0.32.0->pyvistaqt) (2.32.3)\n",
      "Requirement already satisfied: six>=1.5 in /opt/anaconda3/lib/python3.12/site-packages (from python-dateutil>=2.7->matplotlib>=3.0.1->pyvista>=0.32.0->pyvistaqt) (1.16.0)\n",
      "Requirement already satisfied: charset-normalizer<4,>=2 in /opt/anaconda3/lib/python3.12/site-packages (from requests>=2.19.0->pooch->pyvista>=0.32.0->pyvistaqt) (3.3.2)\n",
      "Requirement already satisfied: idna<4,>=2.5 in /opt/anaconda3/lib/python3.12/site-packages (from requests>=2.19.0->pooch->pyvista>=0.32.0->pyvistaqt) (3.7)\n",
      "Requirement already satisfied: urllib3<3,>=1.21.1 in /opt/anaconda3/lib/python3.12/site-packages (from requests>=2.19.0->pooch->pyvista>=0.32.0->pyvistaqt) (2.2.3)\n",
      "Requirement already satisfied: certifi>=2017.4.17 in /opt/anaconda3/lib/python3.12/site-packages (from requests>=2.19.0->pooch->pyvista>=0.32.0->pyvistaqt) (2024.12.14)\n",
      "Requirement already satisfied: ipywidgets in /opt/anaconda3/lib/python3.12/site-packages (7.8.1)\n",
      "Requirement already satisfied: comm>=0.1.3 in /opt/anaconda3/lib/python3.12/site-packages (from ipywidgets) (0.2.1)\n",
      "Requirement already satisfied: ipython-genutils~=0.2.0 in /opt/anaconda3/lib/python3.12/site-packages (from ipywidgets) (0.2.0)\n",
      "Requirement already satisfied: traitlets>=4.3.1 in /opt/anaconda3/lib/python3.12/site-packages (from ipywidgets) (5.14.3)\n",
      "Requirement already satisfied: widgetsnbextension~=3.6.6 in /opt/anaconda3/lib/python3.12/site-packages (from ipywidgets) (3.6.6)\n",
      "Requirement already satisfied: ipython>=4.0.0 in /opt/anaconda3/lib/python3.12/site-packages (from ipywidgets) (8.27.0)\n",
      "Requirement already satisfied: jupyterlab-widgets<3,>=1.0.0 in /opt/anaconda3/lib/python3.12/site-packages (from ipywidgets) (1.0.0)\n",
      "Requirement already satisfied: decorator in /opt/anaconda3/lib/python3.12/site-packages (from ipython>=4.0.0->ipywidgets) (5.1.1)\n",
      "Requirement already satisfied: jedi>=0.16 in /opt/anaconda3/lib/python3.12/site-packages (from ipython>=4.0.0->ipywidgets) (0.19.1)\n",
      "Requirement already satisfied: matplotlib-inline in /opt/anaconda3/lib/python3.12/site-packages (from ipython>=4.0.0->ipywidgets) (0.1.6)\n",
      "Requirement already satisfied: prompt-toolkit<3.1.0,>=3.0.41 in /opt/anaconda3/lib/python3.12/site-packages (from ipython>=4.0.0->ipywidgets) (3.0.43)\n",
      "Requirement already satisfied: pygments>=2.4.0 in /opt/anaconda3/lib/python3.12/site-packages (from ipython>=4.0.0->ipywidgets) (2.15.1)\n",
      "Requirement already satisfied: stack-data in /opt/anaconda3/lib/python3.12/site-packages (from ipython>=4.0.0->ipywidgets) (0.2.0)\n",
      "Requirement already satisfied: pexpect>4.3 in /opt/anaconda3/lib/python3.12/site-packages (from ipython>=4.0.0->ipywidgets) (4.8.0)\n",
      "Requirement already satisfied: notebook>=4.4.1 in /opt/anaconda3/lib/python3.12/site-packages (from widgetsnbextension~=3.6.6->ipywidgets) (7.2.2)\n",
      "Requirement already satisfied: parso<0.9.0,>=0.8.3 in /opt/anaconda3/lib/python3.12/site-packages (from jedi>=0.16->ipython>=4.0.0->ipywidgets) (0.8.3)\n",
      "Requirement already satisfied: jupyter-server<3,>=2.4.0 in /opt/anaconda3/lib/python3.12/site-packages (from notebook>=4.4.1->widgetsnbextension~=3.6.6->ipywidgets) (2.14.1)\n",
      "Requirement already satisfied: jupyterlab-server<3,>=2.27.1 in /opt/anaconda3/lib/python3.12/site-packages (from notebook>=4.4.1->widgetsnbextension~=3.6.6->ipywidgets) (2.27.3)\n",
      "Requirement already satisfied: jupyterlab<4.3,>=4.2.0 in /opt/anaconda3/lib/python3.12/site-packages (from notebook>=4.4.1->widgetsnbextension~=3.6.6->ipywidgets) (4.2.5)\n",
      "Requirement already satisfied: notebook-shim<0.3,>=0.2 in /opt/anaconda3/lib/python3.12/site-packages (from notebook>=4.4.1->widgetsnbextension~=3.6.6->ipywidgets) (0.2.3)\n",
      "Requirement already satisfied: tornado>=6.2.0 in /opt/anaconda3/lib/python3.12/site-packages (from notebook>=4.4.1->widgetsnbextension~=3.6.6->ipywidgets) (6.4.1)\n",
      "Requirement already satisfied: ptyprocess>=0.5 in /opt/anaconda3/lib/python3.12/site-packages (from pexpect>4.3->ipython>=4.0.0->ipywidgets) (0.7.0)\n",
      "Requirement already satisfied: wcwidth in /opt/anaconda3/lib/python3.12/site-packages (from prompt-toolkit<3.1.0,>=3.0.41->ipython>=4.0.0->ipywidgets) (0.2.5)\n",
      "Requirement already satisfied: executing in /opt/anaconda3/lib/python3.12/site-packages (from stack-data->ipython>=4.0.0->ipywidgets) (0.8.3)\n",
      "Requirement already satisfied: asttokens in /opt/anaconda3/lib/python3.12/site-packages (from stack-data->ipython>=4.0.0->ipywidgets) (2.0.5)\n",
      "Requirement already satisfied: pure-eval in /opt/anaconda3/lib/python3.12/site-packages (from stack-data->ipython>=4.0.0->ipywidgets) (0.2.2)\n",
      "Requirement already satisfied: anyio>=3.1.0 in /opt/anaconda3/lib/python3.12/site-packages (from jupyter-server<3,>=2.4.0->notebook>=4.4.1->widgetsnbextension~=3.6.6->ipywidgets) (4.2.0)\n",
      "Requirement already satisfied: argon2-cffi>=21.1 in /opt/anaconda3/lib/python3.12/site-packages (from jupyter-server<3,>=2.4.0->notebook>=4.4.1->widgetsnbextension~=3.6.6->ipywidgets) (21.3.0)\n",
      "Requirement already satisfied: jinja2>=3.0.3 in /opt/anaconda3/lib/python3.12/site-packages (from jupyter-server<3,>=2.4.0->notebook>=4.4.1->widgetsnbextension~=3.6.6->ipywidgets) (3.1.4)\n",
      "Requirement already satisfied: jupyter-client>=7.4.4 in /opt/anaconda3/lib/python3.12/site-packages (from jupyter-server<3,>=2.4.0->notebook>=4.4.1->widgetsnbextension~=3.6.6->ipywidgets) (8.6.0)\n",
      "Requirement already satisfied: jupyter-core!=5.0.*,>=4.12 in /opt/anaconda3/lib/python3.12/site-packages (from jupyter-server<3,>=2.4.0->notebook>=4.4.1->widgetsnbextension~=3.6.6->ipywidgets) (5.7.2)\n",
      "Requirement already satisfied: jupyter-events>=0.9.0 in /opt/anaconda3/lib/python3.12/site-packages (from jupyter-server<3,>=2.4.0->notebook>=4.4.1->widgetsnbextension~=3.6.6->ipywidgets) (0.10.0)\n",
      "Requirement already satisfied: jupyter-server-terminals>=0.4.4 in /opt/anaconda3/lib/python3.12/site-packages (from jupyter-server<3,>=2.4.0->notebook>=4.4.1->widgetsnbextension~=3.6.6->ipywidgets) (0.4.4)\n",
      "Requirement already satisfied: nbconvert>=6.4.4 in /opt/anaconda3/lib/python3.12/site-packages (from jupyter-server<3,>=2.4.0->notebook>=4.4.1->widgetsnbextension~=3.6.6->ipywidgets) (7.16.4)\n",
      "Requirement already satisfied: nbformat>=5.3.0 in /opt/anaconda3/lib/python3.12/site-packages (from jupyter-server<3,>=2.4.0->notebook>=4.4.1->widgetsnbextension~=3.6.6->ipywidgets) (5.10.4)\n",
      "Requirement already satisfied: overrides>=5.0 in /opt/anaconda3/lib/python3.12/site-packages (from jupyter-server<3,>=2.4.0->notebook>=4.4.1->widgetsnbextension~=3.6.6->ipywidgets) (7.4.0)\n",
      "Requirement already satisfied: packaging>=22.0 in /opt/anaconda3/lib/python3.12/site-packages (from jupyter-server<3,>=2.4.0->notebook>=4.4.1->widgetsnbextension~=3.6.6->ipywidgets) (24.1)\n",
      "Requirement already satisfied: prometheus-client>=0.9 in /opt/anaconda3/lib/python3.12/site-packages (from jupyter-server<3,>=2.4.0->notebook>=4.4.1->widgetsnbextension~=3.6.6->ipywidgets) (0.14.1)\n",
      "Requirement already satisfied: pyzmq>=24 in /opt/anaconda3/lib/python3.12/site-packages (from jupyter-server<3,>=2.4.0->notebook>=4.4.1->widgetsnbextension~=3.6.6->ipywidgets) (25.1.2)\n",
      "Requirement already satisfied: send2trash>=1.8.2 in /opt/anaconda3/lib/python3.12/site-packages (from jupyter-server<3,>=2.4.0->notebook>=4.4.1->widgetsnbextension~=3.6.6->ipywidgets) (1.8.2)\n",
      "Requirement already satisfied: terminado>=0.8.3 in /opt/anaconda3/lib/python3.12/site-packages (from jupyter-server<3,>=2.4.0->notebook>=4.4.1->widgetsnbextension~=3.6.6->ipywidgets) (0.17.1)\n",
      "Requirement already satisfied: websocket-client>=1.7 in /opt/anaconda3/lib/python3.12/site-packages (from jupyter-server<3,>=2.4.0->notebook>=4.4.1->widgetsnbextension~=3.6.6->ipywidgets) (1.8.0)\n",
      "Requirement already satisfied: async-lru>=1.0.0 in /opt/anaconda3/lib/python3.12/site-packages (from jupyterlab<4.3,>=4.2.0->notebook>=4.4.1->widgetsnbextension~=3.6.6->ipywidgets) (2.0.4)\n",
      "Requirement already satisfied: httpx>=0.25.0 in /opt/anaconda3/lib/python3.12/site-packages (from jupyterlab<4.3,>=4.2.0->notebook>=4.4.1->widgetsnbextension~=3.6.6->ipywidgets) (0.27.0)\n",
      "Requirement already satisfied: ipykernel>=6.5.0 in /opt/anaconda3/lib/python3.12/site-packages (from jupyterlab<4.3,>=4.2.0->notebook>=4.4.1->widgetsnbextension~=3.6.6->ipywidgets) (6.28.0)\n",
      "Requirement already satisfied: jupyter-lsp>=2.0.0 in /opt/anaconda3/lib/python3.12/site-packages (from jupyterlab<4.3,>=4.2.0->notebook>=4.4.1->widgetsnbextension~=3.6.6->ipywidgets) (2.2.0)\n",
      "Requirement already satisfied: setuptools>=40.1.0 in /opt/anaconda3/lib/python3.12/site-packages (from jupyterlab<4.3,>=4.2.0->notebook>=4.4.1->widgetsnbextension~=3.6.6->ipywidgets) (75.1.0)\n",
      "Requirement already satisfied: babel>=2.10 in /opt/anaconda3/lib/python3.12/site-packages (from jupyterlab-server<3,>=2.27.1->notebook>=4.4.1->widgetsnbextension~=3.6.6->ipywidgets) (2.11.0)\n",
      "Requirement already satisfied: json5>=0.9.0 in /opt/anaconda3/lib/python3.12/site-packages (from jupyterlab-server<3,>=2.27.1->notebook>=4.4.1->widgetsnbextension~=3.6.6->ipywidgets) (0.9.6)\n",
      "Requirement already satisfied: jsonschema>=4.18.0 in /opt/anaconda3/lib/python3.12/site-packages (from jupyterlab-server<3,>=2.27.1->notebook>=4.4.1->widgetsnbextension~=3.6.6->ipywidgets) (4.23.0)\n",
      "Requirement already satisfied: requests>=2.31 in /opt/anaconda3/lib/python3.12/site-packages (from jupyterlab-server<3,>=2.27.1->notebook>=4.4.1->widgetsnbextension~=3.6.6->ipywidgets) (2.32.3)\n",
      "Requirement already satisfied: six in /opt/anaconda3/lib/python3.12/site-packages (from asttokens->stack-data->ipython>=4.0.0->ipywidgets) (1.16.0)\n",
      "Requirement already satisfied: idna>=2.8 in /opt/anaconda3/lib/python3.12/site-packages (from anyio>=3.1.0->jupyter-server<3,>=2.4.0->notebook>=4.4.1->widgetsnbextension~=3.6.6->ipywidgets) (3.7)\n",
      "Requirement already satisfied: sniffio>=1.1 in /opt/anaconda3/lib/python3.12/site-packages (from anyio>=3.1.0->jupyter-server<3,>=2.4.0->notebook>=4.4.1->widgetsnbextension~=3.6.6->ipywidgets) (1.3.0)\n",
      "Requirement already satisfied: argon2-cffi-bindings in /opt/anaconda3/lib/python3.12/site-packages (from argon2-cffi>=21.1->jupyter-server<3,>=2.4.0->notebook>=4.4.1->widgetsnbextension~=3.6.6->ipywidgets) (21.2.0)\n",
      "Requirement already satisfied: pytz>=2015.7 in /opt/anaconda3/lib/python3.12/site-packages (from babel>=2.10->jupyterlab-server<3,>=2.27.1->notebook>=4.4.1->widgetsnbextension~=3.6.6->ipywidgets) (2024.1)\n",
      "Requirement already satisfied: certifi in /opt/anaconda3/lib/python3.12/site-packages (from httpx>=0.25.0->jupyterlab<4.3,>=4.2.0->notebook>=4.4.1->widgetsnbextension~=3.6.6->ipywidgets) (2024.12.14)\n",
      "Requirement already satisfied: httpcore==1.* in /opt/anaconda3/lib/python3.12/site-packages (from httpx>=0.25.0->jupyterlab<4.3,>=4.2.0->notebook>=4.4.1->widgetsnbextension~=3.6.6->ipywidgets) (1.0.2)\n",
      "Requirement already satisfied: h11<0.15,>=0.13 in /opt/anaconda3/lib/python3.12/site-packages (from httpcore==1.*->httpx>=0.25.0->jupyterlab<4.3,>=4.2.0->notebook>=4.4.1->widgetsnbextension~=3.6.6->ipywidgets) (0.14.0)\n",
      "Requirement already satisfied: appnope in /opt/anaconda3/lib/python3.12/site-packages (from ipykernel>=6.5.0->jupyterlab<4.3,>=4.2.0->notebook>=4.4.1->widgetsnbextension~=3.6.6->ipywidgets) (0.1.3)\n",
      "Requirement already satisfied: debugpy>=1.6.5 in /opt/anaconda3/lib/python3.12/site-packages (from ipykernel>=6.5.0->jupyterlab<4.3,>=4.2.0->notebook>=4.4.1->widgetsnbextension~=3.6.6->ipywidgets) (1.6.7)\n",
      "Requirement already satisfied: nest-asyncio in /opt/anaconda3/lib/python3.12/site-packages (from ipykernel>=6.5.0->jupyterlab<4.3,>=4.2.0->notebook>=4.4.1->widgetsnbextension~=3.6.6->ipywidgets) (1.6.0)\n",
      "Requirement already satisfied: psutil in /opt/anaconda3/lib/python3.12/site-packages (from ipykernel>=6.5.0->jupyterlab<4.3,>=4.2.0->notebook>=4.4.1->widgetsnbextension~=3.6.6->ipywidgets) (5.9.0)\n",
      "Requirement already satisfied: MarkupSafe>=2.0 in /opt/anaconda3/lib/python3.12/site-packages (from jinja2>=3.0.3->jupyter-server<3,>=2.4.0->notebook>=4.4.1->widgetsnbextension~=3.6.6->ipywidgets) (2.1.3)\n",
      "Requirement already satisfied: attrs>=22.2.0 in /opt/anaconda3/lib/python3.12/site-packages (from jsonschema>=4.18.0->jupyterlab-server<3,>=2.27.1->notebook>=4.4.1->widgetsnbextension~=3.6.6->ipywidgets) (23.1.0)\n",
      "Requirement already satisfied: jsonschema-specifications>=2023.03.6 in /opt/anaconda3/lib/python3.12/site-packages (from jsonschema>=4.18.0->jupyterlab-server<3,>=2.27.1->notebook>=4.4.1->widgetsnbextension~=3.6.6->ipywidgets) (2023.7.1)\n",
      "Requirement already satisfied: referencing>=0.28.4 in /opt/anaconda3/lib/python3.12/site-packages (from jsonschema>=4.18.0->jupyterlab-server<3,>=2.27.1->notebook>=4.4.1->widgetsnbextension~=3.6.6->ipywidgets) (0.30.2)\n",
      "Requirement already satisfied: rpds-py>=0.7.1 in /opt/anaconda3/lib/python3.12/site-packages (from jsonschema>=4.18.0->jupyterlab-server<3,>=2.27.1->notebook>=4.4.1->widgetsnbextension~=3.6.6->ipywidgets) (0.10.6)\n",
      "Requirement already satisfied: python-dateutil>=2.8.2 in /opt/anaconda3/lib/python3.12/site-packages (from jupyter-client>=7.4.4->jupyter-server<3,>=2.4.0->notebook>=4.4.1->widgetsnbextension~=3.6.6->ipywidgets) (2.9.0.post0)\n",
      "Requirement already satisfied: platformdirs>=2.5 in /opt/anaconda3/lib/python3.12/site-packages (from jupyter-core!=5.0.*,>=4.12->jupyter-server<3,>=2.4.0->notebook>=4.4.1->widgetsnbextension~=3.6.6->ipywidgets) (3.10.0)\n",
      "Requirement already satisfied: python-json-logger>=2.0.4 in /opt/anaconda3/lib/python3.12/site-packages (from jupyter-events>=0.9.0->jupyter-server<3,>=2.4.0->notebook>=4.4.1->widgetsnbextension~=3.6.6->ipywidgets) (2.0.7)\n",
      "Requirement already satisfied: pyyaml>=5.3 in /opt/anaconda3/lib/python3.12/site-packages (from jupyter-events>=0.9.0->jupyter-server<3,>=2.4.0->notebook>=4.4.1->widgetsnbextension~=3.6.6->ipywidgets) (6.0.1)\n",
      "Requirement already satisfied: rfc3339-validator in /opt/anaconda3/lib/python3.12/site-packages (from jupyter-events>=0.9.0->jupyter-server<3,>=2.4.0->notebook>=4.4.1->widgetsnbextension~=3.6.6->ipywidgets) (0.1.4)\n",
      "Requirement already satisfied: rfc3986-validator>=0.1.1 in /opt/anaconda3/lib/python3.12/site-packages (from jupyter-events>=0.9.0->jupyter-server<3,>=2.4.0->notebook>=4.4.1->widgetsnbextension~=3.6.6->ipywidgets) (0.1.1)\n",
      "Requirement already satisfied: beautifulsoup4 in /opt/anaconda3/lib/python3.12/site-packages (from nbconvert>=6.4.4->jupyter-server<3,>=2.4.0->notebook>=4.4.1->widgetsnbextension~=3.6.6->ipywidgets) (4.12.3)\n",
      "Requirement already satisfied: bleach!=5.0.0 in /opt/anaconda3/lib/python3.12/site-packages (from nbconvert>=6.4.4->jupyter-server<3,>=2.4.0->notebook>=4.4.1->widgetsnbextension~=3.6.6->ipywidgets) (4.1.0)\n",
      "Requirement already satisfied: defusedxml in /opt/anaconda3/lib/python3.12/site-packages (from nbconvert>=6.4.4->jupyter-server<3,>=2.4.0->notebook>=4.4.1->widgetsnbextension~=3.6.6->ipywidgets) (0.7.1)\n",
      "Requirement already satisfied: jupyterlab-pygments in /opt/anaconda3/lib/python3.12/site-packages (from nbconvert>=6.4.4->jupyter-server<3,>=2.4.0->notebook>=4.4.1->widgetsnbextension~=3.6.6->ipywidgets) (0.1.2)\n",
      "Requirement already satisfied: mistune<4,>=2.0.3 in /opt/anaconda3/lib/python3.12/site-packages (from nbconvert>=6.4.4->jupyter-server<3,>=2.4.0->notebook>=4.4.1->widgetsnbextension~=3.6.6->ipywidgets) (2.0.4)\n",
      "Requirement already satisfied: nbclient>=0.5.0 in /opt/anaconda3/lib/python3.12/site-packages (from nbconvert>=6.4.4->jupyter-server<3,>=2.4.0->notebook>=4.4.1->widgetsnbextension~=3.6.6->ipywidgets) (0.8.0)\n",
      "Requirement already satisfied: pandocfilters>=1.4.1 in /opt/anaconda3/lib/python3.12/site-packages (from nbconvert>=6.4.4->jupyter-server<3,>=2.4.0->notebook>=4.4.1->widgetsnbextension~=3.6.6->ipywidgets) (1.5.0)\n",
      "Requirement already satisfied: tinycss2 in /opt/anaconda3/lib/python3.12/site-packages (from nbconvert>=6.4.4->jupyter-server<3,>=2.4.0->notebook>=4.4.1->widgetsnbextension~=3.6.6->ipywidgets) (1.2.1)\n",
      "Requirement already satisfied: fastjsonschema>=2.15 in /opt/anaconda3/lib/python3.12/site-packages (from nbformat>=5.3.0->jupyter-server<3,>=2.4.0->notebook>=4.4.1->widgetsnbextension~=3.6.6->ipywidgets) (2.16.2)\n",
      "Requirement already satisfied: charset-normalizer<4,>=2 in /opt/anaconda3/lib/python3.12/site-packages (from requests>=2.31->jupyterlab-server<3,>=2.27.1->notebook>=4.4.1->widgetsnbextension~=3.6.6->ipywidgets) (3.3.2)\n",
      "Requirement already satisfied: urllib3<3,>=1.21.1 in /opt/anaconda3/lib/python3.12/site-packages (from requests>=2.31->jupyterlab-server<3,>=2.27.1->notebook>=4.4.1->widgetsnbextension~=3.6.6->ipywidgets) (2.2.3)\n",
      "Requirement already satisfied: webencodings in /opt/anaconda3/lib/python3.12/site-packages (from bleach!=5.0.0->nbconvert>=6.4.4->jupyter-server<3,>=2.4.0->notebook>=4.4.1->widgetsnbextension~=3.6.6->ipywidgets) (0.5.1)\n",
      "Requirement already satisfied: fqdn in /opt/anaconda3/lib/python3.12/site-packages (from jsonschema[format-nongpl]>=4.18.0->jupyter-events>=0.9.0->jupyter-server<3,>=2.4.0->notebook>=4.4.1->widgetsnbextension~=3.6.6->ipywidgets) (1.5.1)\n",
      "Requirement already satisfied: isoduration in /opt/anaconda3/lib/python3.12/site-packages (from jsonschema[format-nongpl]>=4.18.0->jupyter-events>=0.9.0->jupyter-server<3,>=2.4.0->notebook>=4.4.1->widgetsnbextension~=3.6.6->ipywidgets) (20.11.0)\n",
      "Requirement already satisfied: jsonpointer>1.13 in /opt/anaconda3/lib/python3.12/site-packages (from jsonschema[format-nongpl]>=4.18.0->jupyter-events>=0.9.0->jupyter-server<3,>=2.4.0->notebook>=4.4.1->widgetsnbextension~=3.6.6->ipywidgets) (2.1)\n",
      "Requirement already satisfied: uri-template in /opt/anaconda3/lib/python3.12/site-packages (from jsonschema[format-nongpl]>=4.18.0->jupyter-events>=0.9.0->jupyter-server<3,>=2.4.0->notebook>=4.4.1->widgetsnbextension~=3.6.6->ipywidgets) (1.3.0)\n",
      "Requirement already satisfied: webcolors>=24.6.0 in /opt/anaconda3/lib/python3.12/site-packages (from jsonschema[format-nongpl]>=4.18.0->jupyter-events>=0.9.0->jupyter-server<3,>=2.4.0->notebook>=4.4.1->widgetsnbextension~=3.6.6->ipywidgets) (24.11.1)\n",
      "Requirement already satisfied: cffi>=1.0.1 in /opt/anaconda3/lib/python3.12/site-packages (from argon2-cffi-bindings->argon2-cffi>=21.1->jupyter-server<3,>=2.4.0->notebook>=4.4.1->widgetsnbextension~=3.6.6->ipywidgets) (1.17.1)\n",
      "Requirement already satisfied: soupsieve>1.2 in /opt/anaconda3/lib/python3.12/site-packages (from beautifulsoup4->nbconvert>=6.4.4->jupyter-server<3,>=2.4.0->notebook>=4.4.1->widgetsnbextension~=3.6.6->ipywidgets) (2.5)\n",
      "Requirement already satisfied: pycparser in /opt/anaconda3/lib/python3.12/site-packages (from cffi>=1.0.1->argon2-cffi-bindings->argon2-cffi>=21.1->jupyter-server<3,>=2.4.0->notebook>=4.4.1->widgetsnbextension~=3.6.6->ipywidgets) (2.21)\n",
      "Requirement already satisfied: arrow>=0.15.0 in /opt/anaconda3/lib/python3.12/site-packages (from isoduration->jsonschema[format-nongpl]>=4.18.0->jupyter-events>=0.9.0->jupyter-server<3,>=2.4.0->notebook>=4.4.1->widgetsnbextension~=3.6.6->ipywidgets) (1.2.3)\n"
     ]
    }
   ],
   "source": [
    "import os\n",
    "import matplotlib.pyplot as plt\n",
    "import numpy as np\n",
    "import pandas as pd\n",
    "import seaborn as sns\n",
    "\n",
    "!pip install mne\n",
    "!pip install pyvistaqt\n",
    "!pip install ipywidgets\n",
    "\n",
    "import ipywidgets\n",
    "import mne\n",
    "from mne.preprocessing import find_bad_channels_maxwell\n",
    "\n",
    "%matplotlib tk"
   ]
  },
  {
   "cell_type": "markdown",
   "metadata": {
    "id": "jZUkuhMCG7Xs"
   },
   "source": [
    "# Load and visualize raw data"
   ]
  },
  {
   "cell_type": "markdown",
   "metadata": {
    "id": "3CElLJ6krBiz"
   },
   "source": [
    "### Load datafiles"
   ]
  },
  {
   "cell_type": "code",
   "execution_count": 5,
   "metadata": {
    "colab": {
     "base_uri": "https://localhost:8080/"
    },
    "id": "B4bz6W5gCPX5",
    "outputId": "28ddec25-7c8e-4fc3-a885-c42a24dad661"
   },
   "outputs": [
    {
     "name": "stdout",
     "output_type": "stream",
     "text": [
      "Opening raw data file /Volumes/PortableSSD/SACSAMP/sacsamp01_s01/240207/run06.fif...\n",
      "    Read a total of 13 projection items:\n",
      "        generated with dossp-2.1 (1 x 306)  idle\n",
      "        generated with dossp-2.1 (1 x 306)  idle\n",
      "        generated with dossp-2.1 (1 x 306)  idle\n",
      "        generated with dossp-2.1 (1 x 306)  idle\n",
      "        generated with dossp-2.1 (1 x 306)  idle\n",
      "        generated with dossp-2.1 (1 x 306)  idle\n",
      "        generated with dossp-2.1 (1 x 306)  idle\n",
      "        generated with dossp-2.1 (1 x 306)  idle\n",
      "        generated with dossp-2.1 (1 x 306)  idle\n",
      "        generated with dossp-2.1 (1 x 306)  idle\n",
      "        generated with dossp-2.1 (1 x 306)  idle\n",
      "        generated with dossp-2.1 (1 x 306)  idle\n",
      "        generated with dossp-2.1 (1 x 306)  idle\n",
      "    Range : 32000 ... 310999 =     32.000 ...   310.999 secs\n",
      "Ready.\n"
     ]
    },
    {
     "name": "stderr",
     "output_type": "stream",
     "text": [
      "/var/folders/q2/tlz2mlq51jbd2v369y_80nkh0000gn/T/ipykernel_69203/1088513635.py:13: RuntimeWarning: This filename (/Volumes/PortableSSD/SACSAMP/sacsamp01_s01/240207/run06.fif) does not conform to MNE naming conventions. All raw files should end with raw.fif, raw_sss.fif, raw_tsss.fif, _meg.fif, _eeg.fif, _ieeg.fif, raw.fif.gz, raw_sss.fif.gz, raw_tsss.fif.gz, _meg.fif.gz, _eeg.fif.gz or _ieeg.fif.gz\n",
      "  raw = mne.io.read_raw_fif(sample_data_raw_file, verbose=True, allow_maxshield=True, preload=True)\n",
      "/var/folders/q2/tlz2mlq51jbd2v369y_80nkh0000gn/T/ipykernel_69203/1088513635.py:13: RuntimeWarning: This file contains raw Internal Active Shielding data. It may be distorted. Elekta recommends it be run through MaxFilter to produce reliable results. Consider closing the file and running MaxFilter on the data.\n",
      "  raw = mne.io.read_raw_fif(sample_data_raw_file, verbose=True, allow_maxshield=True, preload=True)\n"
     ]
    },
    {
     "name": "stdout",
     "output_type": "stream",
     "text": [
      "Reading 0 ... 278999  =      0.000 ...   278.999 secs...\n"
     ]
    }
   ],
   "source": [
    "file_name = \"run06\"\n",
    "\n",
    "sample_data_folder = \"/Volumes/PortableSSD/SACSAMP/sacsamp01_s01/240207/\"\n",
    "\n",
    "sample_data_raw_file = os.path.join(sample_data_folder, file_name + '.fif')\n",
    "\n",
    "# Fine calibration file (site-specific info about sensor orientation and calibration)\n",
    "fine_cal_file = os.path.join(sample_data_folder, \"sss_config/sss_cal_3101_160108.dat\")\n",
    "\n",
    "# Crosstalk compensation file (reduces interference between co-located magnetometers and gradiometers)\n",
    "crosstalk_file = os.path.join(sample_data_folder, \"sss_config/ct_sparse.fif\")\n",
    "\n",
    "raw = mne.io.read_raw_fif(sample_data_raw_file, verbose=True, allow_maxshield=True, preload=True)\n",
    "# “Projection items” are SSP projectors calculated to remove environmental noise"
   ]
  },
  {
   "cell_type": "code",
   "execution_count": null,
   "metadata": {},
   "outputs": [],
   "source": [
    "# print(raw.info)"
   ]
  },
  {
   "cell_type": "code",
   "execution_count": null,
   "metadata": {},
   "outputs": [],
   "source": [
    "# print(raw.info[\"ch_names\"])\n",
    "\n",
    "# meg = MEG channels\n",
    "# stim = Stimulus channels\n",
    "# eog =  EOG channels\n",
    "# ecg = ECG channels\n",
    "# emg =  EMG channels\n",
    "# misc = Miscellaneous analog channels\n",
    "# chpi = Continuous HPI coil channels\n",
    "# ias = Internal Active Shielding data\n",
    "# syst = System status channel information\n",
    "# bio = Bio channels"
   ]
  },
  {
   "cell_type": "code",
   "execution_count": null,
   "metadata": {},
   "outputs": [],
   "source": [
    "# print(mne.channel_type(raw.info, 4))"
   ]
  },
  {
   "cell_type": "code",
   "execution_count": 12,
   "metadata": {},
   "outputs": [
    {
     "name": "stdout",
     "output_type": "stream",
     "text": [
      "[0 1 2]\n"
     ]
    }
   ],
   "source": [
    "# print(mne.pick_types(raw.info, bio=True, exclude=[]))"
   ]
  },
  {
   "cell_type": "markdown",
   "metadata": {
    "jp-MarkdownHeadingCollapsed": true
   },
   "source": [
    "### Plot BIO/MISC channels"
   ]
  },
  {
   "cell_type": "code",
   "execution_count": 55,
   "metadata": {},
   "outputs": [
    {
     "data": {
      "text/plain": [
       "Text(0, 0.5, 'ECG')"
      ]
     },
     "execution_count": 55,
     "metadata": {},
     "output_type": "execute_result"
    }
   ],
   "source": [
    "plt.close()\n",
    "start = 1000\n",
    "timestamps = 1000\n",
    "fig, axes = plt.subplots(3, 1, figsize=(16, 12))\n",
    "\n",
    "plt.sca(axes[0])\n",
    "plt.plot(np.transpose(raw.get_data(picks=\"bio\")[2,start:start+timestamps]), label='BIO003')\n",
    "plt.legend(loc=(1.,0.5))\n",
    "plt.ylabel(\"EMG (respiratory)\")\n",
    "\n",
    "plt.sca(axes[1])\n",
    "plt.plot(np.transpose(raw.get_data(picks=\"misc\")[0,start:start+timestamps]), label='MISC001')\n",
    "plt.legend(loc=(1.,0.5))\n",
    "plt.ylabel(\"ECG\")\n",
    "\n",
    "plt.sca(axes[2])\n",
    "plt.plot(np.transpose(raw.get_data(picks=\"misc\")[1,start:start+timestamps]), label='MISC002')\n",
    "plt.legend(loc=(1.,0.5))\n",
    "plt.ylabel(\"ECG\")"
   ]
  },
  {
   "cell_type": "code",
   "execution_count": 57,
   "metadata": {},
   "outputs": [
    {
     "data": {
      "text/plain": [
       "Text(0, 0.5, 'Pupil')"
      ]
     },
     "execution_count": 57,
     "metadata": {},
     "output_type": "execute_result"
    }
   ],
   "source": [
    "plt.close()\n",
    "start = 0000\n",
    "timestamps = 10000\n",
    "fig, axes = plt.subplots(3, 1, figsize=(16, 12))\n",
    "\n",
    "plt.sca(axes[0])\n",
    "plt.plot(np.transpose(raw.get_data(picks=\"bio\")[0,start:start+timestamps]), label='BIO001')  # HEOG\n",
    "plt.plot(np.transpose(raw.get_data(picks=\"bio\")[1,start:start+timestamps]), label='BIO002')  # VEOG\n",
    "plt.legend(loc=(1.,0.5))\n",
    "plt.ylabel(\"EOG\")\n",
    "\n",
    "plt.sca(axes[1])\n",
    "plt.plot(np.transpose(raw.get_data(picks=\"misc\")[2,start:start+timestamps]), label='MISC007')  # V eye pos\n",
    "plt.plot(np.transpose(raw.get_data(picks=\"misc\")[3,start:start+timestamps]), label='MISC008')  # H eye pos\n",
    "plt.legend(loc=(1.,0.5))\n",
    "plt.ylabel(\"Eye position\")\n",
    "\n",
    "plt.sca(axes[2])\n",
    "plt.plot(np.transpose(raw.get_data(picks=\"misc\")[4,start:start+timestamps]), label='MISC009')  # Pupil\n",
    "plt.legend(loc=(1.,0.5))\n",
    "plt.ylabel(\"Pupil\")"
   ]
  },
  {
   "cell_type": "markdown",
   "metadata": {
    "jp-MarkdownHeadingCollapsed": true
   },
   "source": [
    "### Plot sensor locations"
   ]
  },
  {
   "cell_type": "code",
   "execution_count": null,
   "metadata": {},
   "outputs": [],
   "source": [
    "fig = plt.figure()\n",
    "ax2d = fig.add_subplot(121)\n",
    "ax3d = fig.add_subplot(122, projection=\"3d\")\n",
    "raw.plot_sensors(ch_type=\"mag\", axes=ax2d)\n",
    "raw.plot_sensors(ch_type=\"mag\", axes=ax3d, kind=\"3d\")\n",
    "ax3d.view_init(azim=70, elev=15)"
   ]
  },
  {
   "cell_type": "markdown",
   "metadata": {
    "id": "H_7pA9OCq677",
    "jp-MarkdownHeadingCollapsed": true
   },
   "source": [
    "### Convert events to annotations"
   ]
  },
  {
   "cell_type": "code",
   "execution_count": null,
   "metadata": {
    "colab": {
     "base_uri": "https://localhost:8080/",
     "height": 877
    },
    "id": "DbyM7mZeqqCi",
    "outputId": "84263e76-9611-49cc-fce3-b3e79a929673"
   },
   "outputs": [],
   "source": [
    "map_dict_act = {\n",
    "    12: \"BL_ACT\",       \n",
    "    #16: \"\",       \n",
    "    20: \"FP_ACT\",       \n",
    "    #24: \"\",      \n",
    "    28: \"RE_ON\",       \n",
    "    32: \"RE_OFF\",      \n",
    "}\n",
    "\n",
    "map_dict_pas = {\n",
    "    13: \"BL_PAS\",\n",
    "    #17: \"\",\n",
    "    21: \"FP_PAS\",\n",
    "    #25: \"\",\n",
    "    29: \"RE_ON\",\n",
    "    33: \"RE_OFF\"\n",
    "}\n",
    "\n",
    "map_dict_fix = {\n",
    "    14: \"BL_FIX\",  \n",
    "    #18: \"\",\n",
    "    22: \"FP_FIX\",\n",
    "    #26: \"\",\n",
    "    30: \"RE_ON\",\n",
    "    34: \"RE_OFF\"\n",
    "}\n",
    "\n",
    "# Sn = screen onset \n",
    "# Tn = target onset \n",
    "\n",
    "map_dict_stim = {\n",
    "    41: \"S01\",       \n",
    "    42: \"S02\",\n",
    "    43: \"S03\",\n",
    "    44: \"S04\",\n",
    "    45: \"S05\",\n",
    "    46: \"S06\",\n",
    "    47: \"S07\",\n",
    "    48: \"S08\",\n",
    "    49: \"S09\",\n",
    "    50: \"S10\",\n",
    "    51: \"S11\",\n",
    "    52: \"S12\",\n",
    "    81: \"T01\",      \n",
    "    82: \"T02\",\n",
    "    83: \"T03\",\n",
    "    84: \"T04\",\n",
    "    85: \"T05\",\n",
    "    86: \"T06\",\n",
    "    87: \"T07\",\n",
    "    88: \"T08\",\n",
    "    89: \"T09\",\n",
    "    90: \"T10\",\n",
    "    91: \"T11\",\n",
    "    92: \"T12\"\n",
    "}\n",
    "\n",
    "mapping = map_dict_stim | map_dict_fix\n",
    "\n",
    "events = mne.find_events(raw, stim_channel=\"STI101\", output='onset', consecutive='increasing', min_duration=0.001, shortest_event=1, mask=None, uint_cast=False, mask_type='and', initial_event=False, verbose=None)\n",
    "\n",
    "annot_from_events = mne.annotations_from_events(\n",
    "    events=events,\n",
    "    event_desc=mapping,\n",
    "    sfreq=raw.info[\"sfreq\"],\n",
    "    orig_time=raw.info[\"meas_date\"],\n",
    ")\n",
    "\n",
    "raw.set_annotations(annot_from_events);"
   ]
  },
  {
   "cell_type": "markdown",
   "metadata": {
    "id": "0Q7-uPRSq87c",
    "jp-MarkdownHeadingCollapsed": true
   },
   "source": [
    "### Plot raw data"
   ]
  },
  {
   "cell_type": "code",
   "execution_count": null,
   "metadata": {
    "colab": {
     "base_uri": "https://localhost:8080/",
     "height": 1000
    },
    "id": "dJql6CM6DhHD",
    "outputId": "143ccaee-26f1-46ad-a8d1-91687a1a7f29",
    "scrolled": true
   },
   "outputs": [],
   "source": [
    "raw.plot(duration=10, n_channels=30)"
   ]
  },
  {
   "cell_type": "markdown",
   "metadata": {
    "id": "jz1gxeUwV_54"
   },
   "source": [
    "# Apply SSS and Maxwell filtering"
   ]
  },
  {
   "cell_type": "markdown",
   "metadata": {
    "id": "eR16fvcGFcbA"
   },
   "source": [
    "### Find bad channels"
   ]
  },
  {
   "cell_type": "markdown",
   "metadata": {
    "id": "LRf5xtcJT-qF"
   },
   "source": [
    "By default, applies a low-pass filter with a cutoff frequency of 40 Hz, and channels are detected as bad when the number of segments in which they exceed the limit of noisiness is higher than 5."
   ]
  },
  {
   "cell_type": "code",
   "execution_count": null,
   "metadata": {
    "colab": {
     "base_uri": "https://localhost:8080/"
    },
    "id": "SAV8jXMW3a3y",
    "outputId": "4af78f3b-967f-4a2e-db19-63c5e1225b00"
   },
   "outputs": [],
   "source": [
    "raw.info[\"bads\"] = []\n",
    "raw_check = raw.copy()\n",
    "auto_noisy_chs, auto_flat_chs, auto_scores = find_bad_channels_maxwell(\n",
    "    raw_check,\n",
    "    cross_talk=crosstalk_file,\n",
    "    calibration=fine_cal_file,\n",
    "    h_freq=40,\n",
    "    min_count=5,\n",
    "    return_scores=True,\n",
    "    verbose=True,\n",
    ")\n",
    "\n",
    "# Update the list of bad channels\n",
    "bads = raw.info[\"bads\"] + auto_noisy_chs + auto_flat_chs\n",
    "raw.info[\"bads\"] = bads"
   ]
  },
  {
   "cell_type": "markdown",
   "metadata": {
    "id": "XYgfi34SFFPo"
   },
   "source": [
    "### Vizualization of noisy channels"
   ]
  },
  {
   "cell_type": "code",
   "execution_count": null,
   "metadata": {
    "colab": {
     "base_uri": "https://localhost:8080/",
     "height": 845
    },
    "id": "WVzGiiEy4Yqr",
    "outputId": "f0e379c8-cfeb-4b5c-a21c-0f1f50b6bc14"
   },
   "outputs": [],
   "source": [
    "ch_type = \"grad\"\n",
    "#ch_type = \"mag\"\n",
    "ch_subset = auto_scores[\"ch_types\"] == ch_type\n",
    "ch_names = auto_scores[\"ch_names\"][ch_subset]\n",
    "scores = auto_scores[\"scores_noisy\"][ch_subset]\n",
    "limits = auto_scores[\"limits_noisy\"][ch_subset]\n",
    "bins = auto_scores[\"bins\"]\n",
    "\n",
    "bin_labels = [f\"{start:3.3f} – {stop:3.3f}\" for start, stop in bins]\n",
    "data_to_plot = pd.DataFrame(\n",
    "    data=scores,\n",
    "    columns=pd.Index(bin_labels, name=\"Time (s)\"),\n",
    "    index=pd.Index(ch_names, name=\"Channel\"),\n",
    ")\n",
    "\n",
    "fig, ax = plt.subplots(1, 2, figsize=(12, 8), layout=\"constrained\")\n",
    "\n",
    "fig.suptitle(\n",
    "    f\"Automated noisy channel detection: {ch_type}\", fontsize=16, fontweight=\"bold\"\n",
    ")\n",
    "sns.heatmap(data=data_to_plot, cmap=\"Reds\", cbar_kws=dict(label=\"Score\"), ax=ax[0])\n",
    "[\n",
    "    ax[0].axvline(x, ls=\"dashed\", lw=0.25, dashes=(25, 15), color=\"gray\")\n",
    "    for x in range(1, len(bins))\n",
    "]\n",
    "ax[0].set_title(\"All Scores\", fontweight=\"bold\")\n",
    "\n",
    "# Adjust the color range to highlight segments that exceeded the limit\n",
    "sns.heatmap(\n",
    "    data=data_to_plot,\n",
    "    vmin=np.nanmin(limits),\n",
    "    cmap=\"Reds\",\n",
    "    cbar_kws=dict(label=\"Score\"),\n",
    "    ax=ax[1],\n",
    ")\n",
    "[\n",
    "    ax[1].axvline(x, ls=\"dashed\", lw=0.25, dashes=(25, 15), color=\"gray\")\n",
    "    for x in range(1, len(bins))\n",
    "]\n",
    "ax[1].set_title(\"Scores > Limit\", fontweight=\"bold\")"
   ]
  },
  {
   "cell_type": "markdown",
   "metadata": {
    "id": "WJ3h2S_cRXZO",
    "jp-MarkdownHeadingCollapsed": true
   },
   "source": [
    "### Vizualization of flat channels"
   ]
  },
  {
   "cell_type": "code",
   "execution_count": null,
   "metadata": {
    "colab": {
     "base_uri": "https://localhost:8080/",
     "height": 845
    },
    "id": "zL8pVE38RWcW",
    "outputId": "e26b1467-19e0-4dae-b792-3cd382c15b0b"
   },
   "outputs": [],
   "source": [
    "# ch_type = \"grad\"\n",
    "ch_type = \"mag\"\n",
    "ch_subset = auto_scores[\"ch_types\"] == ch_type\n",
    "ch_names = auto_scores[\"ch_names\"][ch_subset]\n",
    "scores = auto_scores[\"scores_flat\"][ch_subset]\n",
    "limits = auto_scores[\"limits_flat\"][ch_subset]\n",
    "bins = auto_scores[\"bins\"]\n",
    "\n",
    "bin_labels = [f\"{start:3.3f} – {stop:3.3f}\" for start, stop in bins]\n",
    "data_to_plot = pd.DataFrame(\n",
    "    data=scores,\n",
    "    columns=pd.Index(bin_labels, name=\"Time (s)\"),\n",
    "    index=pd.Index(ch_names, name=\"Channel\"),\n",
    ")\n",
    "\n",
    "fig, ax = plt.subplots(1, 2, figsize=(12, 8), layout=\"constrained\")\n",
    "fig.suptitle(\n",
    "    f\"Automated flat channel detection: {ch_type}\", fontsize=16, fontweight=\"bold\"\n",
    ")\n",
    "sns.heatmap(data=data_to_plot, cmap=\"Reds\", cbar_kws=dict(label=\"Score\"), ax=ax[0])\n",
    "[\n",
    "    ax[0].axvline(x, ls=\"dashed\", lw=0.25, dashes=(25, 15), color=\"gray\")\n",
    "    for x in range(1, len(bins))\n",
    "]\n",
    "ax[0].set_title(\"All Scores\", fontweight=\"bold\")\n",
    "\n",
    "# Adjust the color range to highlight segments that exceeded the limit\n",
    "sns.heatmap(\n",
    "    data=data_to_plot,\n",
    "    vmax=np.nanmax(limits),\n",
    "    cmap=\"Reds\",\n",
    "    cbar_kws=dict(label=\"Score\"),\n",
    "    ax=ax[1],\n",
    ")\n",
    "[\n",
    "    ax[1].axvline(x, ls=\"dashed\", lw=0.25, dashes=(25, 15), color=\"gray\")\n",
    "    for x in range(1, len(bins))\n",
    "]\n",
    "ax[1].set_title(\"Scores > Limit\", fontweight=\"bold\")"
   ]
  },
  {
   "cell_type": "markdown",
   "metadata": {
    "id": "HrBqyMxGSLfO"
   },
   "source": [
    "### Manual detection of bad channels\n"
   ]
  },
  {
   "cell_type": "code",
   "execution_count": null,
   "metadata": {
    "id": "wfLJ0DH9FY0W"
   },
   "outputs": [],
   "source": [
    "# raw.info[\"bads\"] += [\"MEG2313\"]"
   ]
  },
  {
   "cell_type": "markdown",
   "metadata": {
    "id": "W_IN_6jTTvl4"
   },
   "source": [
    "### Run SSS and Maxwell filter\n"
   ]
  },
  {
   "cell_type": "code",
   "execution_count": null,
   "metadata": {
    "colab": {
     "base_uri": "https://localhost:8080/"
    },
    "id": "EdDvgvRdGMHr",
    "outputId": "8995c57d-265d-4dbe-e958-b95bf6f34349"
   },
   "outputs": [],
   "source": [
    "raw_sss = mne.preprocessing.maxwell_filter(\n",
    "    raw, cross_talk=crosstalk_file, calibration=fine_cal_file, verbose=True\n",
    ")"
   ]
  },
  {
   "cell_type": "markdown",
   "metadata": {
    "id": "tzS_BZzDcLHe"
   },
   "source": [
    "### Plot before and after filtering\n"
   ]
  },
  {
   "cell_type": "code",
   "execution_count": null,
   "metadata": {
    "id": "sPP3PDcxGU-G"
   },
   "outputs": [],
   "source": [
    "#raw.pick([\"meg\"]).plot(duration=2, butterfly=True)\n",
    "#raw_sss.pick([\"meg\"]).plot(duration=2, butterfly=True)\n",
    "\n",
    "#raw.plot(butterfly=True, title='Before')\n",
    "#raw_sss.plot(butterfly=True, title='After')"
   ]
  },
  {
   "cell_type": "code",
   "execution_count": null,
   "metadata": {
    "id": "X8_2tCPKdeQe"
   },
   "outputs": [],
   "source": [
    "# Plot power spectral density (PSD) for each sensor type\n",
    "\n",
    "fig = plt.figure()\n",
    "ax1 = fig.add_subplot(221)\n",
    "ax2 = fig.add_subplot(222)\n",
    "ax3 = fig.add_subplot(223)\n",
    "ax4 = fig.add_subplot(224)\n",
    "raw.compute_psd(fmax=50).plot(average=True, picks=\"data\", exclude=\"bads\", amplitude=False, axes=[ax1, ax2])\n",
    "raw_sss.compute_psd(fmax=50).plot(average=True, picks=\"data\", exclude=\"bads\", amplitude=False, axes=[ax3, ax4])\n",
    "\n",
    "ax1.set_ylim(0, 70)\n",
    "ax2.set_ylim(0, 70)\n",
    "ax3.set_ylim(0, 70)\n",
    "ax4.set_ylim(0, 70)\n",
    "\n",
    "ax1.set_title(\"Gradiometers Before\")\n",
    "ax2.set_title(\"Magnetometers Before\")\n",
    "ax3.set_title(\"Gradiometers After\")\n",
    "ax4.set_title(\"Magnetometers After\")"
   ]
  },
  {
   "cell_type": "code",
   "execution_count": null,
   "metadata": {},
   "outputs": [],
   "source": [
    "fig = plt.figure()\n",
    "ax1 = fig.add_subplot(221)\n",
    "ax2 = fig.add_subplot(222)\n",
    "ax3 = fig.add_subplot(223)\n",
    "ax4 = fig.add_subplot(224)\n",
    "raw.compute_psd(fmax=50).plot(picks=\"data\", amplitude=False, axes=[ax1, ax2])\n",
    "raw_sss.compute_psd(fmax=50).plot(picks=\"data\", amplitude=False, axes=[ax3, ax4])\n",
    "\n",
    "ax1.set_ylim(0, 70)\n",
    "ax2.set_ylim(0, 70)\n",
    "ax3.set_ylim(0, 70)\n",
    "ax4.set_ylim(0, 70)\n",
    "\n",
    "ax1.set_title(\"Gradiometers Before\")\n",
    "ax2.set_title(\"Magnetometers Before\")\n",
    "ax3.set_title(\"Gradiometers After\")\n",
    "ax4.set_title(\"Magnetometers After\")"
   ]
  },
  {
   "cell_type": "code",
   "execution_count": null,
   "metadata": {},
   "outputs": [],
   "source": [
    "# Plot the PSD across sensors as a scalp topography\n",
    "raw.compute_psd(fmax=50).plot_topomap()"
   ]
  },
  {
   "cell_type": "code",
   "execution_count": null,
   "metadata": {},
   "outputs": [],
   "source": [
    "# Plot the PSD for every sensor on its own axes\n",
    "raw.compute_psd(fmax=50).plot_topo()"
   ]
  },
  {
   "cell_type": "markdown",
   "metadata": {
    "id": "5djbnQ7ocRW-"
   },
   "source": [
    "### Save filtered data"
   ]
  },
  {
   "cell_type": "code",
   "execution_count": null,
   "metadata": {
    "colab": {
     "base_uri": "https://localhost:8080/"
    },
    "id": "aIaZwWrYod6v",
    "outputId": "d675964e-9e43-446f-ed13-0e3a163e4844"
   },
   "outputs": [],
   "source": [
    "raw_sss.save(os.path.join(sample_data_folder, file_name + '_sss.fif'),fmt='double',overwrite=True)"
   ]
  },
  {
   "cell_type": "markdown",
   "metadata": {
    "jp-MarkdownHeadingCollapsed": true
   },
   "source": [
    "# Artifacts"
   ]
  },
  {
   "cell_type": "markdown",
   "metadata": {
    "jp-MarkdownHeadingCollapsed": true
   },
   "source": [
    "### Low-frequency drifts"
   ]
  },
  {
   "cell_type": "code",
   "execution_count": null,
   "metadata": {},
   "outputs": [],
   "source": [
    "mag_channels = mne.pick_types(raw.info, meg=\"grad\")\n",
    "raw.plot(duration=60, order=mag_channels, n_channels=len(mag_channels), remove_dc=False)"
   ]
  },
  {
   "cell_type": "markdown",
   "metadata": {
    "jp-MarkdownHeadingCollapsed": true
   },
   "source": [
    "### Power line noise"
   ]
  },
  {
   "cell_type": "code",
   "execution_count": null,
   "metadata": {},
   "outputs": [],
   "source": [
    "def add_arrows(axes):\n",
    "    \"\"\"Add some arrows at 60 Hz and its harmonics.\"\"\"\n",
    "    for ax in axes:\n",
    "        freqs = ax.lines[-1].get_xdata()\n",
    "        psds = ax.lines[-1].get_ydata()\n",
    "        for freq in (60, 120, 180, 240):\n",
    "            idx = np.searchsorted(freqs, freq)\n",
    "            # get ymax of a small region around the freq. of interest\n",
    "            y = psds[(idx - 4) : (idx + 5)].max()\n",
    "            ax.arrow(\n",
    "                x=freqs[idx],\n",
    "                y=y + 18,\n",
    "                dx=0,\n",
    "                dy=-12,\n",
    "                color=\"red\",\n",
    "                width=0.1,\n",
    "                head_width=3,\n",
    "                length_includes_head=True,\n",
    "            )\n",
    "\n",
    "\n",
    "fig = raw.compute_psd(fmax=250).plot(\n",
    "    average=True, amplitude=False, picks=\"data\", exclude=\"bads\"\n",
    ")\n",
    "add_arrows(fig.axes[:2])"
   ]
  },
  {
   "cell_type": "code",
   "execution_count": null,
   "metadata": {},
   "outputs": [],
   "source": [
    "meg_picks = mne.pick_types(raw.info, meg=True)\n",
    "freqs = (60, 120, 180, 240)\n",
    "raw_notch = raw.copy().notch_filter(freqs=freqs, picks=meg_picks)\n",
    "for title, data in zip([\"Un\", \"Notch \"], [raw, raw_notch]):\n",
    "    fig = data.compute_psd(fmax=250).plot(\n",
    "        average=True, amplitude=False, picks=\"data\", exclude=\"bads\"\n",
    "    )\n",
    "    fig.suptitle(f\"{title}filtered\", size=\"xx-large\", weight=\"bold\")\n",
    "    add_arrows(fig.axes[:2])"
   ]
  },
  {
   "cell_type": "markdown",
   "metadata": {},
   "source": [
    "### Heartbeat artifacts (ECG)"
   ]
  },
  {
   "cell_type": "code",
   "execution_count": null,
   "metadata": {},
   "outputs": [],
   "source": [
    "ecg_epochs = mne.preprocessing.create_ecg_epochs(raw)\n",
    "ecg_epochs.plot_image(combine=\"mean\")"
   ]
  },
  {
   "cell_type": "markdown",
   "metadata": {
    "jp-MarkdownHeadingCollapsed": true
   },
   "source": [
    "### Ocular artifacts (EOG)"
   ]
  },
  {
   "cell_type": "code",
   "execution_count": null,
   "metadata": {},
   "outputs": [],
   "source": [
    "eog_epochs = mne.preprocessing.create_eog_epochs(raw, baseline=(-0.5, -0.2))\n",
    "eog_epochs.plot_image(combine=\"mean\")\n",
    "eog_epochs.average().plot_joint()"
   ]
  },
  {
   "cell_type": "markdown",
   "metadata": {
    "jp-MarkdownHeadingCollapsed": true
   },
   "source": [
    "### Movement compensation (head position)"
   ]
  },
  {
   "cell_type": "code",
   "execution_count": null,
   "metadata": {},
   "outputs": [],
   "source": [
    "n_active = mne.chpi.get_active_chpi(raw)\n",
    "print(f\"Average number of coils active during recording: {n_active.mean()}\")"
   ]
  },
  {
   "cell_type": "code",
   "execution_count": null,
   "metadata": {},
   "outputs": [],
   "source": [
    "chpi_freqs, ch_idx, chpi_codes = mne.chpi.get_chpi_info(info=raw.info)\n",
    "print(f\"cHPI coil frequencies extracted from raw: {chpi_freqs} Hz\")"
   ]
  },
  {
   "cell_type": "code",
   "execution_count": null,
   "metadata": {},
   "outputs": [],
   "source": [
    "chpi_amplitudes = mne.chpi.compute_chpi_amplitudes(raw)"
   ]
  },
  {
   "cell_type": "code",
   "execution_count": null,
   "metadata": {},
   "outputs": [],
   "source": [
    "chpi_locs = mne.chpi.compute_chpi_locs(raw.info, chpi_amplitudes)"
   ]
  },
  {
   "cell_type": "code",
   "execution_count": null,
   "metadata": {},
   "outputs": [],
   "source": [
    "head_pos = mne.chpi.compute_head_pos(raw.info, chpi_locs, verbose=True)\n",
    "# mne.chpi.write_head_pos(fname, head_pos)\n",
    "print(head_pos)"
   ]
  },
  {
   "cell_type": "code",
   "execution_count": null,
   "metadata": {},
   "outputs": [],
   "source": [
    "mne.viz.plot_head_positions(head_pos, mode=\"traces\", totals=True)"
   ]
  },
  {
   "cell_type": "code",
   "execution_count": null,
   "metadata": {},
   "outputs": [],
   "source": [
    "mne.viz.plot_head_positions(head_pos, mode=\"field\")"
   ]
  },
  {
   "cell_type": "markdown",
   "metadata": {
    "id": "mAlWzItmWYYU",
    "jp-MarkdownHeadingCollapsed": true
   },
   "source": [
    "# Create epochs"
   ]
  },
  {
   "cell_type": "markdown",
   "metadata": {
    "id": "U4MGe_ilnrSo"
   },
   "source": [
    "### Find events"
   ]
  },
  {
   "cell_type": "code",
   "execution_count": null,
   "metadata": {
    "colab": {
     "base_uri": "https://localhost:8080/"
    },
    "id": "pHJpHs-JWdUS",
    "outputId": "28bfc8e0-6d20-4156-eec3-32425c2d638c"
   },
   "outputs": [],
   "source": [
    "events = mne.find_events(raw_sss, stim_channel=\"STI101\", output='onset', consecutive='increasing', min_duration=0.001, shortest_event=1, mask=None, uint_cast=False, mask_type='and', initial_event=False, verbose=None)\n",
    "print(events[:5])    # Sample number | 0 | Integer event ID"
   ]
  },
  {
   "cell_type": "markdown",
   "metadata": {
    "id": "CYIbo3dFntU-"
   },
   "source": [
    "### Create events dictionary"
   ]
  },
  {
   "cell_type": "code",
   "execution_count": null,
   "metadata": {
    "id": "km-p-9JQcOwj"
   },
   "outputs": [],
   "source": [
    "event_dict_act = {\n",
    "    \"BL_ACT\": 12,\n",
    "    \"FP_ACT\": 20,\n",
    "    \"RE_ON\": 28,\n",
    "    \"RE_OFF\": 32\n",
    "}\n",
    "\n",
    "event_dict_pas = {\n",
    "    \"BL_PAS\": 13,\n",
    "    \"FP_PAS\": 21,\n",
    "    \"RE_ON\": 29,\n",
    "    \"RE_OFF\": 33\n",
    "}\n",
    "\n",
    "event_dict_fix = {\n",
    "    \"BL_FIX\": 14,\n",
    "    \"FP_FIX\": 22,\n",
    "    \"RE_ON\": 30,\n",
    "    \"RE_OFF\": 34\n",
    "}\n",
    "\n",
    "event_dict_stim = {\n",
    "    \"A01\": 41,\n",
    "    \"A02\": 42,\n",
    "    \"A03\": 43,\n",
    "    \"A04\": 44,\n",
    "    \"A05\": 45,\n",
    "    \"A06\": 46,\n",
    "    \"A07\": 47,\n",
    "    \"A08\": 48,\n",
    "    \"A09\": 49,\n",
    "    \"A10\": 50,\n",
    "    \"A11\": 51,\n",
    "    \"A12\": 52,\n",
    "    \"T01\": 81,\n",
    "    \"T02\": 82,\n",
    "    \"T03\": 83,\n",
    "    \"T04\": 84,\n",
    "    \"T05\": 85,\n",
    "    \"T06\": 86,\n",
    "    \"T07\": 87,\n",
    "    \"T08\": 88,\n",
    "    \"T09\": 89,\n",
    "    \"T10\": 90,\n",
    "    \"T11\": 91,\n",
    "    \"T12\": 92\n",
    "}"
   ]
  },
  {
   "cell_type": "markdown",
   "metadata": {
    "id": "wfsKtfqVoFNl"
   },
   "source": [
    "### Create epochs"
   ]
  },
  {
   "cell_type": "code",
   "execution_count": null,
   "metadata": {
    "colab": {
     "base_uri": "https://localhost:8080/"
    },
    "id": "Q5VqXQLhf-IZ",
    "outputId": "53be0fdc-e100-4812-a8a6-969f2a947891"
   },
   "outputs": [],
   "source": [
    "event_dict = event_dict_stim | event_dict_fix\n",
    "\n",
    "# Maximum peak-to-peak signal amplitude\n",
    "reject_criteria = dict(\n",
    "    mag=4000e-15,  # 4000 fT\n",
    "    grad=4000e-13,  # 4000 fT/cm\n",
    ")\n",
    "\n",
    "epochs = mne.Epochs(\n",
    "    raw,\n",
    "    events,\n",
    "    event_id=event_dict,\n",
    "    tmin=-0.5,   # Time relative to each event at which to start each epoch\n",
    "    tmax=1.0,    # Time relative to each event at which to end each epoch\n",
    "    reject=reject_criteria,\n",
    "    preload=True,\n",
    ")"
   ]
  },
  {
   "cell_type": "code",
   "execution_count": null,
   "metadata": {},
   "outputs": [],
   "source": [
    "epochs[\"A01\"].plot(\n",
    "    events=mne.pick_events(events, include=[81]),\n",
    "    event_id=event_dict,\n",
    ")"
   ]
  },
  {
   "cell_type": "markdown",
   "metadata": {
    "id": "l4MgDFoBzYFs"
   },
   "source": [
    "### Plot events"
   ]
  },
  {
   "cell_type": "code",
   "execution_count": null,
   "metadata": {
    "id": "dXcwfEQwzYFt"
   },
   "outputs": [],
   "source": [
    "chan_idx = [raw.ch_names.index(\"STI101\")]\n",
    "raw.plot(order=chan_idx, start=100, duration=5)"
   ]
  },
  {
   "cell_type": "code",
   "execution_count": null,
   "metadata": {
    "id": "h-ux-w_uzYFt"
   },
   "outputs": [],
   "source": [
    "fig = mne.viz.plot_events(events, event_id=event_dict, sfreq=raw.info[\"sfreq\"], first_samp=raw.first_samp)"
   ]
  },
  {
   "cell_type": "markdown",
   "metadata": {
    "id": "5Gn17PpUomRB"
   },
   "source": [
    "### Save epoched data"
   ]
  },
  {
   "cell_type": "code",
   "execution_count": null,
   "metadata": {
    "colab": {
     "base_uri": "https://localhost:8080/"
    },
    "id": "ttPwQ-bmQ9lY",
    "outputId": "50211dae-7459-46cd-fca5-33582e3dbd4a"
   },
   "outputs": [],
   "source": [
    "epochs.save(os.path.join(sample_data_folder, file_name + '_epo.fif'),fmt='double',overwrite=True)"
   ]
  }
 ],
 "metadata": {
  "colab": {
   "provenance": []
  },
  "kernelspec": {
   "display_name": "Python [conda env:base] *",
   "language": "python",
   "name": "conda-base-py"
  },
  "language_info": {
   "codemirror_mode": {
    "name": "ipython",
    "version": 3
   },
   "file_extension": ".py",
   "mimetype": "text/x-python",
   "name": "python",
   "nbconvert_exporter": "python",
   "pygments_lexer": "ipython3",
   "version": "3.12.7"
  }
 },
 "nbformat": 4,
 "nbformat_minor": 4
}
